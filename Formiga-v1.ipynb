{
 "cells": [
  {
   "cell_type": "markdown",
   "metadata": {},
   "source": [
    "$$\n",
    "E_{07} = 1\\cdot P_{07} + \\sum_{k=1}^{6} (1+E_{k7})\\cdot P_{0k} \\\\\n",
    "\\vdots \\\\\n",
    "E_{i7} = 1\\cdot P_{i7} + \\sum_{\\substack{k=0 \\\\ k\\neq i}}^{6} (1+E_{k7})\\cdot P_{ik} \\\\\n",
    "\\vdots \\\\\n",
    "E_{67} = 1\\cdot P_{67} + \\sum_{k=0}^{5} (1+E_{k7})\\cdot P_{6k}\n",
    "$$"
   ]
  },
  {
   "cell_type": "code",
   "execution_count": 1,
   "metadata": {},
   "outputs": [],
   "source": [
    "import numpy as np\n",
    "import pandas as pd\n",
    "import matplotlib.pyplot as plt"
   ]
  },
  {
   "cell_type": "code",
   "execution_count": 2,
   "metadata": {},
   "outputs": [],
   "source": [
    "import operator as op\n",
    "from functools import reduce\n",
    "\n",
    "def comb(n, k):\n",
    "    k = min(k, n-k)\n",
    "    num = reduce(op.mul, range(n, n-k, -1), 1)\n",
    "    den = reduce(op.mul, range(1, k+1), 1)\n",
    "    return num // den"
   ]
  },
  {
   "cell_type": "code",
   "execution_count": 3,
   "metadata": {},
   "outputs": [],
   "source": [
    "def bit_diff(a, b):\n",
    "    x, c = a ^ b, 0\n",
    "    while x > 0:\n",
    "        c += 1\n",
    "        x -= x & -x\n",
    "    return c"
   ]
  },
  {
   "cell_type": "code",
   "execution_count": 4,
   "metadata": {},
   "outputs": [],
   "source": [
    "def get_dist(u, v):\n",
    "    return np.sqrt(bit_diff(u, v))"
   ]
  },
  {
   "cell_type": "code",
   "execution_count": 5,
   "metadata": {},
   "outputs": [],
   "source": [
    "def get_prob_const(dim):\n",
    "    return 1 / sum(1/np.sqrt(i) * comb(dim, i) for i in range(1, dim+1))"
   ]
  },
  {
   "cell_type": "code",
   "execution_count": 6,
   "metadata": {},
   "outputs": [],
   "source": [
    "def get_prob(u, v, C):\n",
    "    if u == v: return 0\n",
    "    return C / get_dist(u, v)"
   ]
  },
  {
   "cell_type": "code",
   "execution_count": 7,
   "metadata": {},
   "outputs": [],
   "source": [
    "def get_prob_matrix(n_vertices, C):\n",
    "    return np.array([[get_prob(u, v, C) for v in range(n_vertices)] for u in range(n_vertices)])"
   ]
  },
  {
   "cell_type": "code",
   "execution_count": 8,
   "metadata": {},
   "outputs": [],
   "source": [
    "def update_E(E, P, n_vertices):\n",
    "    for u in range(n_vertices-1):\n",
    "        E[u] = P[u, n_vertices-1]\n",
    "        for v in range(n_vertices-1):\n",
    "            if u == v: continue\n",
    "            E[u] += (1 + E[v]) * P[u, v]\n",
    "    return E"
   ]
  },
  {
   "cell_type": "code",
   "execution_count": 9,
   "metadata": {},
   "outputs": [],
   "source": [
    "def run_epochs(E, n_iters, P, n_vertices, Es=None):\n",
    "    for _ in range(n_iters):\n",
    "        E = update_E(E, P, n_vertices)\n",
    "        if Es: Es.append(E[0])\n",
    "    return E"
   ]
  },
  {
   "cell_type": "code",
   "execution_count": 10,
   "metadata": {},
   "outputs": [],
   "source": [
    "def solve(dim, n_iter=3000):\n",
    "    n_vertices = 2**dim\n",
    "    C = get_prob_const(dim)\n",
    "    P = get_prob_matrix(n_vertices, C)\n",
    "    E, Es = np.zeros(n_vertices-1), [0]\n",
    "    E = run_epochs(E, n_iter, P, n_vertices, Es)\n",
    "    return E[0], Es, E"
   ]
  },
  {
   "cell_type": "code",
   "execution_count": 11,
   "metadata": {},
   "outputs": [
    {
     "data": {
      "text/plain": [
       "7.30772726461206"
      ]
     },
     "execution_count": 11,
     "metadata": {},
     "output_type": "execute_result"
    }
   ],
   "source": [
    "E3, *_ = solve(3)\n",
    "E3"
   ]
  },
  {
   "cell_type": "code",
   "execution_count": 12,
   "metadata": {},
   "outputs": [
    {
     "data": {
      "text/plain": [
       "127.43899470063619"
      ]
     },
     "execution_count": 12,
     "metadata": {},
     "output_type": "execute_result"
    }
   ],
   "source": [
    "E7, *_ = solve(7)\n",
    "E7"
   ]
  }
 ],
 "metadata": {
  "kernelspec": {
   "display_name": "Python 3",
   "language": "python",
   "name": "python3"
  },
  "language_info": {
   "codemirror_mode": {
    "name": "ipython",
    "version": 3
   },
   "file_extension": ".py",
   "mimetype": "text/x-python",
   "name": "python",
   "nbconvert_exporter": "python",
   "pygments_lexer": "ipython3",
   "version": "3.7.6"
  }
 },
 "nbformat": 4,
 "nbformat_minor": 4
}
